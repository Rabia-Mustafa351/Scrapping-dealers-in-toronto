{
 "cells": [
  {
   "cell_type": "code",
   "execution_count": 1,
   "id": "70f80de1",
   "metadata": {},
   "outputs": [],
   "source": [
    "import time\n",
    "import pandas as pd\n",
    "from selenium import webdriver\n",
    "from selenium.webdriver.chrome.options import Options\n",
    "from selenium.webdriver.common.keys import Keys\n",
    "# from webdriver_manager.firefox import ChromeDriverManage\n",
    "from webdriver_manager.firefox import GeckoDriverManager\n",
    "from selenium.webdriver.common.by import By\n",
    "from selenium.common.exceptions import NoSuchElementException"
   ]
  },
  {
   "cell_type": "code",
   "execution_count": 5,
   "id": "2c0a7d95",
   "metadata": {},
   "outputs": [],
   "source": [
    "import time\n",
    "import pandas as pd\n",
    "from selenium import webdriver\n",
    "from selenium.webdriver.chrome.options import Options\n",
    "from selenium.webdriver.common.keys import Keys\n",
    "from webdriver_manager.chrome import ChromeDriverManager\n",
    "from selenium.webdriver.common.by import By\n",
    "from selenium.common.exceptions import NoSuchElementException"
   ]
  },
  {
   "cell_type": "code",
   "execution_count": 37,
   "id": "ccf950d0",
   "metadata": {},
   "outputs": [],
   "source": [
    "Name=[]\n",
    "Location=[]\n",
    "WebsiteLink=[]\n",
    "PhoneNumber=[] "
   ]
  },
  {
   "cell_type": "code",
   "execution_count": 11,
   "id": "3f19d804",
   "metadata": {},
   "outputs": [
    {
     "name": "stdout",
     "output_type": "stream",
     "text": [
      "\n"
     ]
    },
    {
     "name": "stderr",
     "output_type": "stream",
     "text": [
      "C:\\Users\\USER\\AppData\\Local\\Temp/ipykernel_12840/2778350310.py:2: DeprecationWarning: executable_path has been deprecated, please pass in a Service object\n",
      "  driver = webdriver.Chrome(ChromeDriverManager().install(), options=options)\n"
     ]
    }
   ],
   "source": []
  },
  {
   "cell_type": "code",
   "execution_count": 52,
   "id": "b2764049",
   "metadata": {
    "scrolled": true
   },
   "outputs": [
    {
     "name": "stdout",
     "output_type": "stream",
     "text": [
      "\n"
     ]
    },
    {
     "name": "stderr",
     "output_type": "stream",
     "text": [
      "C:\\Users\\USER\\AppData\\Local\\Temp/ipykernel_12840/552664810.py:2: DeprecationWarning: executable_path has been deprecated, please pass in a Service object\n",
      "  driver = webdriver.Chrome(ChromeDriverManager().install(), options=options)\n"
     ]
    },
    {
     "name": "stdout",
     "output_type": "stream",
     "text": [
      "2\n",
      "nott accesses 2\n",
      "4\n",
      "nott accesses 4\n",
      "6\n",
      "nott accesses 6\n",
      "8\n",
      "nott accesses 8\n",
      "10\n",
      "nott accesses 10\n",
      "12\n",
      "nott accesses 12\n",
      "14\n",
      "nott accesses 14\n",
      "16\n",
      "nott accesses 16\n",
      "18\n",
      "nott accesses 18\n",
      "20\n",
      "nott accesses 20\n",
      "22\n",
      "nott accesses 22\n",
      "24\n",
      "nott accesses 24\n",
      "26\n",
      "nott accesses 26\n",
      "28\n",
      "nott accesses 28\n"
     ]
    }
   ],
   "source": [
    "options = Options()\n",
    "driver = webdriver.Chrome(ChromeDriverManager().install(), options=options)\n",
    "url='https://www.google.com/search?q=car+dealerships+in+Toronto&sz=0&tbm=lcl&ei=DE1vY-KHEMGC9u8PvuyBmA8&ved=0ahUKEwjivaGLkaj7AhVBgf0HHT52APMQ4dUDCAk&oq=car+dealerships+in+Toronto&gs_lcp=Cg1nd3Mtd2l6LWxvY2FsEAxQAFgAYABoAHAAeACAAQCIAQCSAQCYAQA&sclient=gws-wiz-local#rlfi=hd:;si:;mv:[[43.7746593,-79.2965952],[43.650897799999996,-79.539889]];tbs:lrf:!1m4!1u3!2m2!3m1!1e1!1m4!1u2!2m2!2m1!1e1!2m1!1e2!2m1!1e3!3sIAE,lf:1,lf_ui:10'\n",
    "driver.get(url)\n",
    "time.sleep(10)\n",
    "p=0\n",
    "for i in range(1,30):\n",
    "    if i%2==0:\n",
    "        p=p+2\n",
    "        try:\n",
    "            print(p)\n",
    "            driver.find_element('xpath',f'/html/body/div[6]/div/div[9]/div[1]/div/div[2]/div[2]/div/div/div/div/div/div/div/div/div[1]/div[3]/div[{p}]/div/div/div/a[1]/div/div/div[1]/span').click()\n",
    "            time.sleep(10)\n",
    "            tempName=driver.find_element('xpath','//*[@id=\"akp_tsuid_10\"]/div/div[1]/div/g-sticky-content-container/div/block-component/div/div[1]/div/div/div/div[1]/div/div/div[1]/div/div[1]/div/div[2]/h2/span').text\n",
    "            Name.append(tempName)\n",
    "            print(tempName)\n",
    "            tempPhoneNumber=driver.find_element('xpath','//*[@id=\"akp_tsuid_10\"]/div/div[1]/div/g-sticky-content-container/div/block-component/div/div[1]/div/div/div/div[1]/div/div/div[4]/c-wiz/div/div/a[2]').get_attribute(\"data-phone-number\")\n",
    "            print(tempPhoneNumber)\n",
    "            PhoneNumber.append(tempPhoneNumber)\n",
    "            tempWebsiteLink=driver.find_element('xpath','//*[@id=\"akp_tsuid_10\"]/div/div[1]/div/g-sticky-content-container/div/block-component/div/div[1]/div/div/div/div[1]/div/div/div[4]/c-wiz/div/div/a[1]').get_attribute(\"href\")\n",
    "            WebsiteLink.append(tempWebsiteLink)\n",
    "            print(tempWebsiteLink)\n",
    "        except:\n",
    "            print(\"nott accesses\",p)\n",
    "# #             continue"
   ]
  },
  {
   "cell_type": "code",
   "execution_count": 53,
   "id": "dc3e6ce7",
   "metadata": {},
   "outputs": [],
   "source": [
    "import pandas as pd\n",
    "TorontoCarsData=pd.DataFrame({\n",
    "    \"Dealers Name\":Name,\n",
    "    \"Phone Number\":PhoneNumber,\n",
    "    \"Website Link\":WebsiteLink\n",
    "    \n",
    "})"
   ]
  },
  {
   "cell_type": "code",
   "execution_count": 54,
   "id": "d1da641d",
   "metadata": {},
   "outputs": [
    {
     "data": {
      "text/html": [
       "<div>\n",
       "<style scoped>\n",
       "    .dataframe tbody tr th:only-of-type {\n",
       "        vertical-align: middle;\n",
       "    }\n",
       "\n",
       "    .dataframe tbody tr th {\n",
       "        vertical-align: top;\n",
       "    }\n",
       "\n",
       "    .dataframe thead th {\n",
       "        text-align: right;\n",
       "    }\n",
       "</style>\n",
       "<table border=\"1\" class=\"dataframe\">\n",
       "  <thead>\n",
       "    <tr style=\"text-align: right;\">\n",
       "      <th></th>\n",
       "      <th>Dealers Name</th>\n",
       "      <th>Phone Number</th>\n",
       "      <th>Website Link</th>\n",
       "    </tr>\n",
       "  </thead>\n",
       "  <tbody>\n",
       "    <tr>\n",
       "      <th>0</th>\n",
       "      <td>Coliseum Auto Sales on Weston</td>\n",
       "      <td>+14167662277</td>\n",
       "      <td>http://coliseumauto.ca/</td>\n",
       "    </tr>\n",
       "    <tr>\n",
       "      <th>1</th>\n",
       "      <td>Nexcar Auto Sales &amp; Leasing</td>\n",
       "      <td>+14166338188</td>\n",
       "      <td>https://www.nexcar.ca/</td>\n",
       "    </tr>\n",
       "    <tr>\n",
       "      <th>2</th>\n",
       "      <td>Autorama</td>\n",
       "      <td>+18667817443</td>\n",
       "      <td>https://www.autorama.ca/?utm_source=google&amp;utm...</td>\n",
       "    </tr>\n",
       "    <tr>\n",
       "      <th>3</th>\n",
       "      <td>Favorit Motors</td>\n",
       "      <td>+18884797447</td>\n",
       "      <td>https://www.favoritmotors.ca/</td>\n",
       "    </tr>\n",
       "    <tr>\n",
       "      <th>4</th>\n",
       "      <td>Good Fellow's Auto Wholesalers</td>\n",
       "      <td>+18555819590</td>\n",
       "      <td>https://www.goodfellowsauto.com/</td>\n",
       "    </tr>\n",
       "    <tr>\n",
       "      <th>5</th>\n",
       "      <td>West Toronto Auto Leasing and Sales Ltd.</td>\n",
       "      <td>+18777336679</td>\n",
       "      <td>http://www.westtorontoautoleasing.com/</td>\n",
       "    </tr>\n",
       "    <tr>\n",
       "      <th>6</th>\n",
       "      <td>Sun Auto Sales</td>\n",
       "      <td>+18665188028</td>\n",
       "      <td>http://www.sunautosales.ca/</td>\n",
       "    </tr>\n",
       "    <tr>\n",
       "      <th>7</th>\n",
       "      <td>Logan Motors</td>\n",
       "      <td>+14164660677</td>\n",
       "      <td>http://www.loganmotors.ca/</td>\n",
       "    </tr>\n",
       "    <tr>\n",
       "      <th>8</th>\n",
       "      <td>Mid Toronto Auto Sales</td>\n",
       "      <td>+14168403292</td>\n",
       "      <td>https://midtorontoautosales.com/?utm_source=go...</td>\n",
       "    </tr>\n",
       "    <tr>\n",
       "      <th>9</th>\n",
       "      <td>Pro Drive Auto Sales</td>\n",
       "      <td>+16477028291</td>\n",
       "      <td>https://www.prodriveautosales.com/</td>\n",
       "    </tr>\n",
       "    <tr>\n",
       "      <th>10</th>\n",
       "      <td>Downtown AutoGroup - Autoplex</td>\n",
       "      <td>+14164655471</td>\n",
       "      <td>https://www.dag.cars/</td>\n",
       "    </tr>\n",
       "    <tr>\n",
       "      <th>11</th>\n",
       "      <td>Toronto Best Auto</td>\n",
       "      <td>+14162481241</td>\n",
       "      <td>http://www.torontobestauto.ca/</td>\n",
       "    </tr>\n",
       "    <tr>\n",
       "      <th>12</th>\n",
       "      <td>Bell Auto</td>\n",
       "      <td>+14167368880</td>\n",
       "      <td>http://www.bellauto.ca/</td>\n",
       "    </tr>\n",
       "    <tr>\n",
       "      <th>13</th>\n",
       "      <td>Mr. Motor</td>\n",
       "      <td>+14165518000</td>\n",
       "      <td>http://www.mistermotor.ca/</td>\n",
       "    </tr>\n",
       "    <tr>\n",
       "      <th>14</th>\n",
       "      <td>Keele Auto Centre</td>\n",
       "      <td>+14167694466</td>\n",
       "      <td>http://www.keeleauto.com/</td>\n",
       "    </tr>\n",
       "    <tr>\n",
       "      <th>15</th>\n",
       "      <td>Motorland Auto Sales Inc.</td>\n",
       "      <td>+14166653838</td>\n",
       "      <td>http://motorlandautosales.ca/</td>\n",
       "    </tr>\n",
       "    <tr>\n",
       "      <th>16</th>\n",
       "      <td>Bay Auto Zone</td>\n",
       "      <td>+14166610220</td>\n",
       "      <td>http://www.bayautozone.com/?utm_source=Google_...</td>\n",
       "    </tr>\n",
       "  </tbody>\n",
       "</table>\n",
       "</div>"
      ],
      "text/plain": [
       "                                Dealers Name  Phone Number  \\\n",
       "0              Coliseum Auto Sales on Weston  +14167662277   \n",
       "1                Nexcar Auto Sales & Leasing  +14166338188   \n",
       "2                                   Autorama  +18667817443   \n",
       "3                             Favorit Motors  +18884797447   \n",
       "4             Good Fellow's Auto Wholesalers  +18555819590   \n",
       "5   West Toronto Auto Leasing and Sales Ltd.  +18777336679   \n",
       "6                             Sun Auto Sales  +18665188028   \n",
       "7                               Logan Motors  +14164660677   \n",
       "8                     Mid Toronto Auto Sales  +14168403292   \n",
       "9                       Pro Drive Auto Sales  +16477028291   \n",
       "10             Downtown AutoGroup - Autoplex  +14164655471   \n",
       "11                         Toronto Best Auto  +14162481241   \n",
       "12                                 Bell Auto  +14167368880   \n",
       "13                                 Mr. Motor  +14165518000   \n",
       "14                         Keele Auto Centre  +14167694466   \n",
       "15                 Motorland Auto Sales Inc.  +14166653838   \n",
       "16                             Bay Auto Zone  +14166610220   \n",
       "\n",
       "                                         Website Link  \n",
       "0                             http://coliseumauto.ca/  \n",
       "1                              https://www.nexcar.ca/  \n",
       "2   https://www.autorama.ca/?utm_source=google&utm...  \n",
       "3                       https://www.favoritmotors.ca/  \n",
       "4                    https://www.goodfellowsauto.com/  \n",
       "5              http://www.westtorontoautoleasing.com/  \n",
       "6                         http://www.sunautosales.ca/  \n",
       "7                          http://www.loganmotors.ca/  \n",
       "8   https://midtorontoautosales.com/?utm_source=go...  \n",
       "9                  https://www.prodriveautosales.com/  \n",
       "10                              https://www.dag.cars/  \n",
       "11                     http://www.torontobestauto.ca/  \n",
       "12                            http://www.bellauto.ca/  \n",
       "13                         http://www.mistermotor.ca/  \n",
       "14                          http://www.keeleauto.com/  \n",
       "15                      http://motorlandautosales.ca/  \n",
       "16  http://www.bayautozone.com/?utm_source=Google_...  "
      ]
     },
     "execution_count": 54,
     "metadata": {},
     "output_type": "execute_result"
    }
   ],
   "source": [
    "TorontoCarsData"
   ]
  },
  {
   "cell_type": "code",
   "execution_count": 49,
   "id": "178fc242",
   "metadata": {},
   "outputs": [],
   "source": [
    "TorontoCarsData.to_excel('TorontoCarsData.xlsx')"
   ]
  },
  {
   "cell_type": "code",
   "execution_count": null,
   "id": "d9705ee5",
   "metadata": {},
   "outputs": [],
   "source": [
    "for i in range(1,20):\n",
    "        try:\n",
    "            url='https://www.dawnnews.tv/archive/pakistan/'+x[0:10]\n",
    "            driver.get(url)\n",
    "            time.sleep(1)\n",
    "            driver.find_element('xpath',f'/html/body/div[2]/div/div/div/div/div[1]/div/article[{i}]/h2/a').click()\n",
    "            label.append(driver.find_element('xpath','/html/body/div[2]/div[1]/div/article/div[1]/h2/a').text)\n",
    "            Data.append(driver.find_element('xpath','/html/body/div[2]/div[1]/div/article/div[2]/div').text)\n",
    "\n",
    "        except:\n",
    "            continue"
   ]
  },
  {
   "cell_type": "code",
   "execution_count": null,
   "id": "eabe3d71",
   "metadata": {},
   "outputs": [],
   "source": []
  },
  {
   "cell_type": "code",
   "execution_count": null,
   "id": "92f57233",
   "metadata": {},
   "outputs": [],
   "source": []
  },
  {
   "cell_type": "code",
   "execution_count": null,
   "id": "29e33ea2",
   "metadata": {},
   "outputs": [],
   "source": []
  },
  {
   "cell_type": "code",
   "execution_count": null,
   "id": "709dbc79",
   "metadata": {},
   "outputs": [],
   "source": [
    "# Page1 links\n",
    "# /html/body/div[6]/div/div[9]/div[1]/div/div[2]/div[2]/div/div/div/div/div/div/div/div/div[1]/div[3]/div[2]/div/div/div/a[1]/div/div/div[1]/span[1]\n",
    "# /html/body/div[6]/div/div[9]/div[1]/div/div[2]/div[2]/div/div/div/div/div/div/div/div/div[1]/div[3]/div[4]/div/div[2]/div/a[1]/div/div/div[1]/span\n",
    "# /html/body/div[6]/div/div[9]/div[1]/div/div[2]/div[2]/div/div/div/div/div/div/div/div/div[1]/div[3]/div[6]/div/div/div/a[1]/div/div/div[1]/span\n",
    "# /html/body/div[6]/div/div[9]/div[1]/div/div[2]/div[2]/div/div/div/div/div/div/div/div/div[1]/div[3]/div[8]/div/div/div/a[1]/div/div/div[1]/span\n",
    "# /html/body/div[6]/div/div[9]/div[1]/div/div[2]/div[2]/div/div/div/div/div/div/div/div/div[1]/div[3]/div[10]/div/div/div/a[1]/div/div/div[1]/span\n",
    "# /html/body/div[6]/div/div[9]/div[1]/div/div[2]/div[2]/div/div/div/div/div/div/div/div/div[1]/div[3]/div[44]/div/div/div/a[1]/div/div/div[1]/span\n"
   ]
  },
  {
   "cell_type": "code",
   "execution_count": null,
   "id": "3b0ef38d",
   "metadata": {},
   "outputs": [],
   "source": [
    "# /html/body/div[6]/div/div[9]/div[2]/div/div[2]/async-local-kp/div/div/div[1]/div/g-sticky-content-container/div/block-component/div/div[1]/div/div/div/div[1]/div/div/div[1]/div/div[1]/div/div[2]"
   ]
  },
  {
   "cell_type": "code",
   "execution_count": null,
   "id": "6f36fb53",
   "metadata": {},
   "outputs": [],
   "source": []
  }
 ],
 "metadata": {
  "kernelspec": {
   "display_name": "Python 3 (ipykernel)",
   "language": "python",
   "name": "python3"
  },
  "language_info": {
   "codemirror_mode": {
    "name": "ipython",
    "version": 3
   },
   "file_extension": ".py",
   "mimetype": "text/x-python",
   "name": "python",
   "nbconvert_exporter": "python",
   "pygments_lexer": "ipython3",
   "version": "3.9.7"
  }
 },
 "nbformat": 4,
 "nbformat_minor": 5
}
